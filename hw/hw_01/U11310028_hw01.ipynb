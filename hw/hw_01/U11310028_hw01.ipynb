{
 "cells": [
  {
   "cell_type": "code",
   "execution_count": null,
   "id": "b847876f",
   "metadata": {
    "vscode": {
     "languageId": "plaintext"
    }
   },
   "outputs": [],
   "source": [
    "from obspy import UTCDateTime\n",
    "from obspy.clients.fdsn import Client\n",
    "import matplotlib.pyplot as plt\n",
    "\n",
    "# 參數設定\n",
    "client = Client(\"IRIS\")\n",
    "starttime = UTCDateTime(\"2025-10-07T23:52:12\")\n",
    "duration = 120  # 秒\n",
    "endtime = starttime + duration\n",
    "\n",
    "# 選擇一個常見的台站\n",
    "network = \"IU\"        # 改為全球台網\n",
    "station = \"ANMO\"      # 美國 New Mexico 台站\n",
    "location = \"*\"\n",
    "channel = \"BHZ\"\n",
    "\n",
    "# 下載地震波資料\n",
    "print(\"下載地震波資料中...\")\n",
    "st = client.get_waveforms(network, station, location, channel, starttime, endtime)\n",
    "\n",
    "# 下載台站資訊 (可用於後續處理)\n",
    "inv = client.get_stations(network=network, station=station, location=location,\n",
    "                          channel=channel, level=\"response\")\n",
    "\n",
    "# 畫圖並存檔\n",
    "print(\"繪製地震波形圖...\")\n",
    "st.plot(outfile=\"waveform.png\", title=f\"{network}.{station}.{channel}\\n{starttime} ~ {endtime}\")\n",
    "\n",
    "print(\"✅ 地震波圖已儲存為 waveform.png\")\n"
   ]
  }
 ],
 "metadata": {
  "language_info": {
   "name": "python"
  }
 },
 "nbformat": 4,
 "nbformat_minor": 5
}
